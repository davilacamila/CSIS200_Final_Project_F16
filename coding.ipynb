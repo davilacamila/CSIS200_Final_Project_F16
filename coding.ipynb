{
 "cells": [
  {
   "cell_type": "code",
   "execution_count": 1,
   "metadata": {
    "collapsed": false
   },
   "outputs": [
    {
     "name": "stdout",
     "output_type": "stream",
     "text": [
      "My name is Camila Davila\n"
     ]
    }
   ],
   "source": [
    "# Edit this cell to print out your name.\n",
    "print \"My name is %s.\" % (\"Camila Davila\")"
   ]
  },
  {
   "cell_type": "markdown",
   "metadata": {},
   "source": [
    "# Predicting the weather\n",
    "\n",
    "***For all of the questions in this project, assume that 1 month = 30 days.***"
   ]
  },
  {
   "cell_type": "markdown",
   "metadata": {},
   "source": [
    "## Problem 1 (20 pts)\n",
    "\n",
    "Suppose there is a 20% chance it will rain on any given day in a month. What are the odds that that rains on one and only one day in a month. \n",
    "\n",
    "Work this problem out a*nalytically* (with pen and paper, using a formula) and write it up in your final document.\n",
    "\n",
    "Here you should solve the same problem *numerically* using a Monte Carlo approach, similar to how we approached the birthday problem in class. \n",
    "\n",
    "Make sure that both approaches give you a similar result. "
   ]
  },
  {
   "cell_type": "code",
   "execution_count": 2,
   "metadata": {
    "collapsed": false
   },
   "outputs": [
    {
     "name": "stdout",
     "output_type": "stream",
     "text": [
      "800.0\n",
      "80.0\n"
     ]
    }
   ],
   "source": [
    "from numpy import random\n",
    "\n",
    "nmonths = 1000\n",
    "\n",
    "ndays = 30\n",
    "\n",
    "\n",
    "def prains():\n",
    "    \n",
    "     \n",
    "    \n",
    "    for i in range(0,nmonths):\n",
    "    \n",
    "        for j in range(0,ndays):\n",
    "            \n",
    "                percents = random.random()\n",
    "    \n",
    "                if percents <= 0.20:\n",
    "                    \n",
    "                    rain = (True)\n",
    "\n",
    "    return rain \n",
    "\n",
    "\n",
    "percents = random.random()\n",
    "nsame = 0\n",
    "\n",
    "\n",
    "for i in range(0,nmonths):\n",
    "        \n",
    "        if prains()==True:\n",
    "        \n",
    "            nsame += 0.80\n",
    "        \n",
    "print nsame\n",
    "print 100.*nsame/float(nmonths)"
   ]
  },
  {
   "cell_type": "markdown",
   "metadata": {},
   "source": [
    "## Problem 2 (20 pts)\n",
    "\n",
    "Suppose there is a 10% chance that it will rain on any given day in a month. What are the odds that it rains at least 8 days (in any order) that month?\n",
    "\n",
    "Work this problem out *numerically* using a Monte Carlo approach. "
   ]
  },
  {
   "cell_type": "code",
   "execution_count": 40,
   "metadata": {
    "collapsed": false
   },
   "outputs": [
    {
     "ename": "UnboundLocalError",
     "evalue": "local variable 'raineight' referenced before assignment",
     "output_type": "error",
     "traceback": [
      "\u001b[0;31m---------------------------------------------------------------------------\u001b[0m",
      "\u001b[0;31mUnboundLocalError\u001b[0m                         Traceback (most recent call last)",
      "\u001b[0;32m<ipython-input-40-e3b8c4cddcb5>\u001b[0m in \u001b[0;36m<module>\u001b[0;34m()\u001b[0m\n\u001b[1;32m     20\u001b[0m \u001b[0;34m\u001b[0m\u001b[0m\n\u001b[1;32m     21\u001b[0m \u001b[0mnsam\u001b[0m \u001b[0;34m=\u001b[0m \u001b[0;36m0\u001b[0m\u001b[0;34m\u001b[0m\u001b[0m\n\u001b[0;32m---> 22\u001b[0;31m \u001b[0;32mif\u001b[0m \u001b[0mpraineight\u001b[0m\u001b[0;34m(\u001b[0m\u001b[0;34m)\u001b[0m\u001b[0;34m==\u001b[0m\u001b[0mTrue\u001b[0m\u001b[0;34m:\u001b[0m\u001b[0;34m\u001b[0m\u001b[0m\n\u001b[0m\u001b[1;32m     23\u001b[0m     \u001b[0;32mfor\u001b[0m \u001b[0mi\u001b[0m \u001b[0;32min\u001b[0m \u001b[0mrange\u001b[0m\u001b[0;34m(\u001b[0m\u001b[0;36m0\u001b[0m\u001b[0;34m,\u001b[0m\u001b[0mnmonths\u001b[0m\u001b[0;34m)\u001b[0m\u001b[0;34m:\u001b[0m\u001b[0;34m\u001b[0m\u001b[0m\n\u001b[1;32m     24\u001b[0m         \u001b[0mnsam\u001b[0m \u001b[0;34m+=\u001b[0m \u001b[0;36m1\u001b[0m\u001b[0;34m\u001b[0m\u001b[0m\n",
      "\u001b[0;32m<ipython-input-40-e3b8c4cddcb5>\u001b[0m in \u001b[0;36mpraineight\u001b[0;34m()\u001b[0m\n\u001b[1;32m     17\u001b[0m                     \u001b[0mraineight\u001b[0m \u001b[0;34m=\u001b[0m \u001b[0mTrue\u001b[0m\u001b[0;34m\u001b[0m\u001b[0m\n\u001b[1;32m     18\u001b[0m \u001b[0;34m\u001b[0m\u001b[0m\n\u001b[0;32m---> 19\u001b[0;31m     \u001b[0;32mreturn\u001b[0m \u001b[0mraineight\u001b[0m\u001b[0;34m\u001b[0m\u001b[0m\n\u001b[0m\u001b[1;32m     20\u001b[0m \u001b[0;34m\u001b[0m\u001b[0m\n\u001b[1;32m     21\u001b[0m \u001b[0mnsam\u001b[0m \u001b[0;34m=\u001b[0m \u001b[0;36m0\u001b[0m\u001b[0;34m\u001b[0m\u001b[0m\n",
      "\u001b[0;31mUnboundLocalError\u001b[0m: local variable 'raineight' referenced before assignment"
     ]
    }
   ],
   "source": [
    "nmonths = 10\n",
    "ndays = 30\n",
    "\n",
    "\n",
    "def praineight():\n",
    "    \n",
    "     \n",
    "    \n",
    "    for i in range(0,nmonths):\n",
    "    \n",
    "        for j in range(0,ndays):\n",
    "            \n",
    "                percent = random.random()\n",
    "    \n",
    "                if percent <= (0.10**8):\n",
    "                    \n",
    "                    raineight = True\n",
    "\n",
    "    return raineight \n",
    "\n",
    "nsam = 0\n",
    "if praineight()==True:\n",
    "    for i in range(0,nmonths):\n",
    "        nsam += 1\n",
    "        \n",
    "print nsam\n",
    "\n"
   ]
  },
  {
   "cell_type": "markdown",
   "metadata": {},
   "source": [
    "## Problem 3 \n",
    "\n",
    "### 3a (20 pts)\n",
    "\n",
    "Suppose that if it rains one day, the odds of a certain amount of rainfall *on that day* are\n",
    "\n",
    "* 1 cm   20%\n",
    "* 2 cm   30%\n",
    "* 3 cm   30%\n",
    "* 4 cm   10%\n",
    "* 5 cm   10%\n",
    "\n",
    "However the odds of it raining are dependent on if it rained the day before.\n",
    "\n",
    "* If it is the first day of the month, there is a 10% chance of rain.\n",
    "* If it rained 1 day before, but not 2 days before, there is a 20% chance of rain. \n",
    "* If it rained both of the 2 days before, but not the 3rd day before, there is a 25% chance of rain.\n",
    "* If it rained for the 3 days (or more) before, there is a 5% chance of rain. \n",
    "* Otherwise, there is a 10% chance of rain\n",
    "\n",
    "What are the odds that there are at least 10 cm of rain in a given month?\n",
    "\n",
    "Work this problem out using a Monte Carlo approach. "
   ]
  },
  {
   "cell_type": "code",
   "execution_count": 3,
   "metadata": {
    "collapsed": false
   },
   "outputs": [],
   "source": [
    "nmonths = 10\n",
    "\n",
    "ndays = 30\n",
    "\n",
    "def prains():\n",
    "    \n",
    "    for i in range(0,nmonths):\n",
    "    \n",
    "        for j in range(0,ndays):\n",
    "            \n",
    "                percents = random.random()\n",
    "    \n",
    "                if percents >= 0.10:\n",
    "                    \n",
    "                    if percents>=0.20:\n",
    "                        rain = 1\n",
    "                        \n",
    "                    \n",
    "                    if percents >= 0.30:\n",
    "                        rain = 2 or 3\n",
    "                    \n",
    "                    \n",
    "                    if percents >= 0.10:\n",
    "                        rain = 4 or 5\n",
    "               \n",
    "                if percents >= (0.2*0.20):\n",
    "                    \n",
    "                    if percents>=0.20:\n",
    "                        rain = 1\n",
    "                        \n",
    "                    \n",
    "                    if percents >= 0.30:\n",
    "                        rain = 2 or 3\n",
    "                    \n",
    "                    \n",
    "                    if percents >= 0.10:\n",
    "                        rain = 4 or 5\n",
    "\n",
    "                if percents >= (0.25*0.25*0.25):\n",
    "                    \n",
    "                    if percents>=0.20:\n",
    "                        rain = 1\n",
    "                        \n",
    "                    \n",
    "                    if percents >= 0.30:\n",
    "                        rain = 2 or 3\n",
    "                    \n",
    "                    \n",
    "                    if percents >= 0.10:\n",
    "                        rain = 4 or 5\n",
    "                        \n",
    "                        \n",
    "                if percents >= (0.5*0.5*0.5*0.5*0.5*0.5):\n",
    "                    \n",
    "                    if percents>=0.20:\n",
    "                        rain = 1\n",
    "                        \n",
    "                    \n",
    "                    if percents >= 0.30:\n",
    "                        rain = 2 or 3\n",
    "                    \n",
    "                    \n",
    "                    if percents >= 0.10:\n",
    "                        rain = 4 or 5\n",
    "\n",
    "                        \n",
    "                     \n",
    "\n",
    "                        \n",
    "                        \n",
    "                        \n",
    "                        \n",
    "                        \n",
    "if prains()==True:\n",
    "    for i in range(0,nmonths):\n",
    "        nsame += 1\n",
    "        "
   ]
  },
  {
   "cell_type": "markdown",
   "metadata": {},
   "source": [
    "### 3b (10 pts)\n",
    "\n",
    "Make a histogram of the distribtion of expected rainfall values. You can get this from your Monte Carlo trials. \n",
    "\n",
    "Make sure you label everything clearly. "
   ]
  },
  {
   "cell_type": "code",
   "execution_count": null,
   "metadata": {
    "collapsed": true
   },
   "outputs": [],
   "source": []
  },
  {
   "cell_type": "raw",
   "metadata": {
    "collapsed": false
   },
   "source": [
    "# Your code here?\n",
    "\n",
    "nmonths = 1000 # The number of times we roll the die\n",
    "\n",
    "yesitrains = []\n",
    "for i in range(0,nmonths):\n",
    "    \n",
    "    rains = prains()\n",
    "    yesitrains.append(rains)\n",
    "    \n",
    "plt.figure(figsize=(5,5))\n",
    "\n",
    "plt.hist(values,bins=6,range=(1,7)) \n",
    "# Note that the way we have done this with the range of values, the low edge of a bin represents the side of the die\n",
    "\n",
    "plt.xlabel(\"Days\",fontsize=18)\n",
    "plt.ylabel(\"percent it rains\n",
    "\",fontsize=18)\n",
    "\n",
    "plt.tight_layout()"
   ]
  },
  {
   "cell_type": "markdown",
   "metadata": {},
   "source": [
    "### 3c (10 pts)\n",
    "\n",
    "What is the average amount of rain to fall in any given month? \n",
    "\n"
   ]
  },
  {
   "cell_type": "code",
   "execution_count": 5,
   "metadata": {
    "collapsed": false
   },
   "outputs": [],
   "source": [
    "# Your code here?\n"
   ]
  },
  {
   "cell_type": "markdown",
   "metadata": {},
   "source": [
    "### 3d (20)\n",
    "\n",
    "Once you find the average value, someone might ask you for the uncertainty (some people also refer to uncertainty as the \"*error*\") on your prediction. That can be tricky to calculate, so often what is given is just a *range* of possible values. \"We estimate the rainfall to be between X cm and Y cm.\" The question is, how to decide what that range is. \n",
    "\n",
    "The way this is often done is to find the middle 95% of the trial values (from your Monte Carlo run) and then use the low-edge and the high-edge of that range. If you're concerned about the middle 95%, then 2.5% of the values are below them and 2.5% of all the values are above them. The rainfall values at those edges are what you use for the ranges to quote. \n",
    "\n",
    "This is what people mean when they say, \"I'm 95% confident that the rainfall will be between X and Y\", and when you write it up for the LaTeX document, you should also quote it this way. \n",
    "\n",
    "*Hint!* This part becomes much easier if you sort all the values using any of the numpy/Python sort functions you can read about online. When you sort them, you should be able to find what rainfall is at the edge for the lower 2.5% and the higher 2.5%. "
   ]
  },
  {
   "cell_type": "code",
   "execution_count": 6,
   "metadata": {
    "collapsed": false
   },
   "outputs": [],
   "source": [
    "# Your code here"
   ]
  }
 ],
 "metadata": {
  "anaconda-cloud": {},
  "kernelspec": {
   "display_name": "Python [Root]",
   "language": "python",
   "name": "Python [Root]"
  },
  "language_info": {
   "codemirror_mode": {
    "name": "ipython",
    "version": 2
   },
   "file_extension": ".py",
   "mimetype": "text/x-python",
   "name": "python",
   "nbconvert_exporter": "python",
   "pygments_lexer": "ipython2",
   "version": "2.7.12"
  }
 },
 "nbformat": 4,
 "nbformat_minor": 0
}
